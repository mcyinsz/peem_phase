{
 "cells": [
  {
   "cell_type": "code",
   "execution_count": 1,
   "metadata": {},
   "outputs": [],
   "source": [
    "# %pip install imagej\n",
    "# %pip install scyjava"
   ]
  },
  {
   "cell_type": "code",
   "execution_count": 1,
   "metadata": {},
   "outputs": [],
   "source": [
    "import imagej\n",
    "import sys\n",
    "import os\n",
    "import imagej\n",
    "\n",
    "# 设置 JAVA_HOME 路径\n",
    "# os.environ['JAVA_HOME'] = \"C:\\Program Files\\Microsoft\\jdk-17.0.8.101-hotspot\"\n",
    "# os.environ['PATH'] = os.environ['JAVA_HOME'] + r'\\bin' + os.pathsep + os.environ['PATH']\n",
    "\n",
    "# initialize ImageJ2\n",
    "ij = imagej.init(r\"D:\\ProgramFiles\\fiji-win64\\Fiji.app\")\n",
    "\n",
    "# Load an image.\n",
    "image_url = 'https://imagej.net/images/clown.jpg'\n",
    "jimage = ij.io().open(image_url)\n",
    "\n",
    "# Convert the image from ImageJ2 to xarray, a package that adds\n",
    "# labeled datasets to numpy (http://xarray.pydata.org/en/stable/).\n",
    "image = ij.py.from_java(jimage)\n",
    "\n",
    "# Display the image (backed by matplotlib).\n",
    "ij.py.show(image, cmap='gray')\n"
   ]
  },
  {
   "cell_type": "code",
   "execution_count": null,
   "metadata": {},
   "outputs": [],
   "source": []
  }
 ],
 "metadata": {
  "kernelspec": {
   "display_name": "islpy",
   "language": "python",
   "name": "python3"
  },
  "language_info": {
   "codemirror_mode": {
    "name": "ipython",
    "version": 3
   },
   "file_extension": ".py",
   "mimetype": "text/x-python",
   "name": "python",
   "nbconvert_exporter": "python",
   "pygments_lexer": "ipython3",
   "version": "3.12.5"
  }
 },
 "nbformat": 4,
 "nbformat_minor": 2
}
